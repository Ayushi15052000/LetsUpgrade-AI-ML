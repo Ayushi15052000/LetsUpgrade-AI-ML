{
 "cells": [
  {
   "cell_type": "markdown",
   "metadata": {},
   "source": [
    "__Question 1__\n",
    "Write a program to subtract two complex numbers in Python."
   ]
  },
  {
   "cell_type": "code",
   "execution_count": 4,
   "metadata": {},
   "outputs": [
    {
     "name": "stdout",
     "output_type": "stream",
     "text": [
      "enter the first complex number8+6j\n",
      "enter the second complex number3+4j\n",
      "Subtraction of two complex numbers (8+6j) and (3+4j) is (5+2j)\n"
     ]
    }
   ],
   "source": [
    "a = complex(input(\"enter the first complex number\"))\n",
    "b = complex(input(\"enter the second complex number\"))\n",
    "c = a - b\n",
    "print(\"Subtraction of two complex numbers\",a,\"and\",b,\"is\",c)"
   ]
  },
  {
   "cell_type": "markdown",
   "metadata": {},
   "source": [
    "__Question 2__\n",
    "Write a program to find the fourth root of a number."
   ]
  },
  {
   "cell_type": "code",
   "execution_count": 29,
   "metadata": {},
   "outputs": [],
   "source": [
    "import math\n",
    "def pwo(n):\n",
    "    f = n**4\n",
    "    return f,n"
   ]
  },
  {
   "cell_type": "code",
   "execution_count": 31,
   "metadata": {
    "scrolled": true
   },
   "outputs": [
    {
     "data": {
      "text/plain": [
       "(4096, 8)"
      ]
     },
     "execution_count": 31,
     "metadata": {},
     "output_type": "execute_result"
    }
   ],
   "source": [
    "pwo(8)"
   ]
  },
  {
   "cell_type": "markdown",
   "metadata": {},
   "source": [
    "__Question 3__\n",
    "Write a program to swap two numbers in Python with the help of a temporary variable"
   ]
  },
  {
   "cell_type": "code",
   "execution_count": 5,
   "metadata": {},
   "outputs": [
    {
     "name": "stdout",
     "output_type": "stream",
     "text": [
      "enter the first no.3\n",
      "enter the second no.5\n",
      "Before swap the nos are 3 and 5\n",
      "After swap the nos are 5 and 3\n"
     ]
    }
   ],
   "source": [
    "a = int(input(\"enter the first no.\"))\n",
    "b = int(input(\"enter the second no.\"))\n",
    "print(\"Before swap the nos are\",a,\"and\",b)\n",
    "c = a #c is a temporary variable here.\n",
    "a = b\n",
    "b = c\n",
    "print(\"After swap the nos are\",a,\"and\",b)\n"
   ]
  },
  {
   "cell_type": "markdown",
   "metadata": {},
   "source": [
    "__Question 4__\n",
    "Write a program to swap two numbers in Python without using a temporary variable.\n"
   ]
  },
  {
   "cell_type": "code",
   "execution_count": 6,
   "metadata": {},
   "outputs": [
    {
     "name": "stdout",
     "output_type": "stream",
     "text": [
      "enter the first no.3\n",
      "enter the second no.5\n",
      "Before swap the nos are 3 and 5\n",
      "After swap the nos are 5 and 3\n"
     ]
    }
   ],
   "source": [
    "a = int(input(\"enter the first no.\"))\n",
    "b = int(input(\"enter the second no.\"))\n",
    "print(\"Before swap the nos are\",a,\"and\",b)\n",
    "a = a + b\n",
    "b = a - b\n",
    "a = a - b\n",
    "print(\"After swap the nos are\",a,\"and\",b)"
   ]
  },
  {
   "cell_type": "markdown",
   "metadata": {},
   "source": [
    "__Question 5__\n",
    "Write a program to convert fahrenheit to kelvin and celsius both."
   ]
  },
  {
   "cell_type": "code",
   "execution_count": 8,
   "metadata": {},
   "outputs": [
    {
     "name": "stdout",
     "output_type": "stream",
     "text": [
      "enter the temperature in faherenheit 35.5\n",
      "the temperature in Celsius is = 1.9444444444444444\n",
      "the temperature in Kelvin is = 275.09444444444443\n"
     ]
    }
   ],
   "source": [
    "F = float(input(\"enter the temperature in faherenheit \"))\n",
    "C = 5 * (F - 32)/9\n",
    "K = C + 273.15\n",
    "\n",
    "print(\"the temperature in Celsius is =\",C)\n",
    "print(\"the temperature in Kelvin is =\",K)\n"
   ]
  },
  {
   "cell_type": "markdown",
   "metadata": {},
   "source": [
    "__Question 6__\n",
    "Write a program to demonstrate all the available data types in Python. "
   ]
  },
  {
   "cell_type": "code",
   "execution_count": 2,
   "metadata": {},
   "outputs": [
    {
     "name": "stdout",
     "output_type": "stream",
     "text": [
      "<class 'int'>\n",
      "<class 'float'>\n",
      "<class 'complex'>\n",
      "<class 'str'>\n",
      "<class 'list'>\n",
      "<class 'tuple'>\n",
      "<class 'dict'>\n"
     ]
    }
   ],
   "source": [
    "a = 12\n",
    "b = 23.3\n",
    "c = 2+3j\n",
    "d = 'Ayushi'\n",
    "e = [2,3,4,5]\n",
    "f = (2,3,4,5)\n",
    "g = {1:'sam',2:'Jerry',3:'Elena'}\n",
    "print(type(a))\n",
    "print(type(b))\n",
    "print(type(c))\n",
    "print(type(d))\n",
    "print(type(e))\n",
    "print(type(f))\n",
    "print(type(g))"
   ]
  },
  {
   "cell_type": "markdown",
   "metadata": {},
   "source": [
    "__Question 7__\n",
    "Create a Markdown cell in jupyter and list the steps discussed in the session by Dr. Darshan\n",
    "Ingle sir to create Github profile and upload Githubs Assignment link."
   ]
  },
  {
   "cell_type": "markdown",
   "metadata": {},
   "source": [
    "___Step1___ -- Go to google and open github.com,then if we already have a account then we can sign in or can create new account if we          do not have one.  \n",
    "___Step2___ -- When our account is created or opened just click the repository tab and make one new public repository named as                __LetsUpgrade AI/ML__.\n",
    "___Step3___ -- Then,upload the assignment solution file in the repository in day wise manner.\n",
    "___Step4___ -- Lets say we make a folder named DAY3 and in that there is a jupyter notebook named Day3 AI/ML so open day 3 folder and          and copy the link of the file inside it,this is our Github Assignment link.\n",
    "___Step5___ -- Now open the assignment submission link given and fill all the required details correctly and in the url column paste          the link which we have copied in previous step.\n",
    "___Step6___ -- Finally,just click on the submit tab and the assignment is submitted and as a confirmation we will be receiving a mail          by google forms.\n"
   ]
  },
  {
   "cell_type": "code",
   "execution_count": null,
   "metadata": {},
   "outputs": [],
   "source": []
  }
 ],
 "metadata": {
  "kernelspec": {
   "display_name": "Python 3",
   "language": "python",
   "name": "python3"
  },
  "language_info": {
   "codemirror_mode": {
    "name": "ipython",
    "version": 3
   },
   "file_extension": ".py",
   "mimetype": "text/x-python",
   "name": "python",
   "nbconvert_exporter": "python",
   "pygments_lexer": "ipython3",
   "version": "3.7.6"
  }
 },
 "nbformat": 4,
 "nbformat_minor": 4
}

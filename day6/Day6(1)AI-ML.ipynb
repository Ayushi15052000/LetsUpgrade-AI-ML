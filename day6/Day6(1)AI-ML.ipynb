{
 "cells": [
  {
   "cell_type": "markdown",
   "metadata": {},
   "source": [
    "__Question 1__\n",
    "Assuming that we have some email addresses in the \"username@companyname.com\" format, please write program\n",
    "to print the company name of a given email address. Both user names and company names are composed of letters\n",
    "only.\n",
    "Input Format:\n",
    "The first line of the input contains an email address.\n",
    "Output Format:\n",
    "Print the company name in single line.\n",
    "Example;\n",
    "Input:\n",
    "john@google.com\n",
    "Output:\n",
    "google\n"
   ]
  },
  {
   "cell_type": "code",
   "execution_count": 1,
   "metadata": {},
   "outputs": [
    {
     "name": "stdout",
     "output_type": "stream",
     "text": [
      "guptaayushimohit@gmail.com\n",
      "gmail\n"
     ]
    }
   ],
   "source": [
    "print(input().split(\"@\")[1].split(\".\")[0])"
   ]
  },
  {
   "cell_type": "markdown",
   "metadata": {},
   "source": [
    "__Question 2__\n",
    "Write a program that accepts a comma-separated sequence of words as input and prints the words in a comma\n",
    "separated sequence after sorting them alphabetically.\n",
    "Input Format:\n",
    "The first line of input contains words separated by the comma.\n",
    "Output Format:\n",
    "Print the sorted words separated by the comma.\n",
    "Example:\n",
    "Input:\n",
    "without,hello,bag,world\n",
    "Output:\n",
    "bag,hello,without,world"
   ]
  },
  {
   "cell_type": "code",
   "execution_count": 2,
   "metadata": {},
   "outputs": [
    {
     "name": "stdout",
     "output_type": "stream",
     "text": [
      "Enter some comma seperated sequence of wordswithout,hello,bag,world\n",
      "bag,hello,without,world\n"
     ]
    }
   ],
   "source": [
    "items = input(\"Enter some comma seperated sequence of words\")\n",
    "words = [word for word in items.split(\",\")]\n",
    "print(\",\".join(sorted(list(set(words)))))"
   ]
  },
  {
   "cell_type": "markdown",
   "metadata": {},
   "source": [
    "__Question 3__\n",
    "Create your own Jupyter Notebook for Sets.\n",
    "Reference link: https://www.w3schools.com/python/python_sets.asp"
   ]
  },
  {
   "cell_type": "markdown",
   "metadata": {},
   "source": [
    "solution of this submitted as seperate notebook."
   ]
  },
  {
   "cell_type": "markdown",
   "metadata": {},
   "source": [
    "__Question 4__\n",
    "Given a list of n-1 numbers ranging from 1 to n, your task is to find the missing number. There are no duplicates.\n",
    "Input Format:\n",
    "The first line contains n-1 numbers with each number separated by a space.\n",
    "Output Format:\n",
    "Print the missing number\n",
    "Example:\n",
    "Input:1 2 4 6 3 7 8\n",
    "Output:5\n",
    "Explanation:\n",
    "In the above list of numbers 5 is missing and hence 5 is the input\n"
   ]
  },
  {
   "cell_type": "code",
   "execution_count": 3,
   "metadata": {},
   "outputs": [],
   "source": [
    "def get_missing_no(L):\n",
    "    n = len(L)\n",
    "    total = (n+1)*(n+2)/2\n",
    "    sum_of_L = sum(L)\n",
    "    return total - sum_of_L"
   ]
  },
  {
   "cell_type": "code",
   "execution_count": 6,
   "metadata": {},
   "outputs": [
    {
     "name": "stdout",
     "output_type": "stream",
     "text": [
      "4.0\n"
     ]
    }
   ],
   "source": [
    "L = [1,2,3,5,6]\n",
    "missed_no = get_missing_no(L)\n",
    "print(missed_no)"
   ]
  },
  {
   "cell_type": "markdown",
   "metadata": {},
   "source": [
    "__Question 5__\n",
    "With a given list L, write a program to print this list L after removing all duplicate values with original order reserved.\n",
    "Example:\n",
    "If the input list is\n",
    "12 24 35 24 88 120 155 88 120 155\n",
    "Then the output should be\n",
    "12 24 35 88 120 155\n",
    "Explanation:\n",
    "Third, seventh and ninth element of the list L has been removed because it was already present.\n",
    "Input Format:\n",
    "In one line take the elements of the list L with each element separated by a space.\n",
    "Output Format:\n",
    "Print the elements of the modified list in one line with each element separated by a space.\n",
    "Example:\n",
    "Input: 12 24 35 24\n",
    "Output:\n",
    "12 24 35"
   ]
  },
  {
   "cell_type": "code",
   "execution_count": 1,
   "metadata": {},
   "outputs": [
    {
     "name": "stdout",
     "output_type": "stream",
     "text": [
      "enter a list seperated by space12 34 12 67 56\n",
      "Sorted list: 12 34 67 56\n"
     ]
    }
   ],
   "source": [
    "input_list = input(\"enter a list seperated by space\").split()\n",
    "user_list = list(dict.fromkeys(input_list))\n",
    "print(\"Sorted list:\" ,*user_list)"
   ]
  },
  {
   "cell_type": "code",
   "execution_count": 2,
   "metadata": {},
   "outputs": [
    {
     "name": "stdout",
     "output_type": "stream",
     "text": [
      "enter a list seperated by space12 24 35 24\n",
      "Sorted list: 12 24 35\n"
     ]
    }
   ],
   "source": [
    "input_list = input(\"enter a list seperated by space\").split()\n",
    "user_list = list(dict.fromkeys(input_list))\n",
    "print(\"Sorted list:\" ,*user_list)"
   ]
  },
  {
   "cell_type": "markdown",
   "metadata": {},
   "source": []
  }
 ],
 "metadata": {
  "kernelspec": {
   "display_name": "Python 3",
   "language": "python",
   "name": "python3"
  },
  "language_info": {
   "codemirror_mode": {
    "name": "ipython",
    "version": 3
   },
   "file_extension": ".py",
   "mimetype": "text/x-python",
   "name": "python",
   "nbconvert_exporter": "python",
   "pygments_lexer": "ipython3",
   "version": "3.7.6"
  }
 },
 "nbformat": 4,
 "nbformat_minor": 4
}

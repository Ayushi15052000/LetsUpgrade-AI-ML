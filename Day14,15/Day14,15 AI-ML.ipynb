{
  "nbformat": 4,
  "nbformat_minor": 0,
  "metadata": {
    "kernelspec": {
      "display_name": "Python 3",
      "language": "python",
      "name": "python3"
    },
    "language_info": {
      "codemirror_mode": {
        "name": "ipython",
        "version": 3
      },
      "file_extension": ".py",
      "mimetype": "text/x-python",
      "name": "python",
      "nbconvert_exporter": "python",
      "pygments_lexer": "ipython3",
      "version": "3.7.4"
    },
    "colab": {
      "name": "Copy of Numpy Assignment Questions 23 july 2020- Lets Upgrade.ipynb",
      "provenance": [],
      "collapsed_sections": []
    }
  },
  "cells": [
    {
      "cell_type": "markdown",
      "metadata": {
        "id": "9qpwGjzJlZcJ",
        "colab_type": "text"
      },
      "source": [
        "# DAY 14,15 ASSIGNMENT"
      ]
    },
    {
      "cell_type": "markdown",
      "metadata": {
        "id": "bdawjHUiEF7y",
        "colab_type": "text"
      },
      "source": [
        "# 1. Create a 3x3x3 array with random values "
      ]
    },
    {
      "cell_type": "code",
      "metadata": {
        "id": "i1ef6pBpEF70",
        "colab_type": "code",
        "colab": {
          "base_uri": "https://localhost:8080/",
          "height": 204
        },
        "outputId": "570ab1ea-ec3c-4922-de6c-297ad6a86005"
      },
      "source": [
        "import numpy as np\n",
        "x = np.random.random((3,3,3))\n",
        "print(x)"
      ],
      "execution_count": 1,
      "outputs": [
        {
          "output_type": "stream",
          "text": [
            "[[[0.47072263 0.77680797 0.0851829 ]\n",
            "  [0.33257966 0.57553084 0.23682783]\n",
            "  [0.25427398 0.0319483  0.11956171]]\n",
            "\n",
            " [[0.91343403 0.80624475 0.67214857]\n",
            "  [0.45378859 0.95882119 0.7973056 ]\n",
            "  [0.40899547 0.75078249 0.89368272]]\n",
            "\n",
            " [[0.0530621  0.1885295  0.70368555]\n",
            "  [0.50766216 0.44021722 0.25959104]\n",
            "  [0.38232526 0.03181708 0.05472288]]]\n"
          ],
          "name": "stdout"
        }
      ]
    },
    {
      "cell_type": "markdown",
      "metadata": {
        "id": "oirX0k0tEF7-",
        "colab_type": "text"
      },
      "source": [
        "# 2.Create a 5x5 matrix with values 1,2,3,4 just below the diagonal"
      ]
    },
    {
      "cell_type": "code",
      "metadata": {
        "id": "H4cOakruEF8A",
        "colab_type": "code",
        "colab": {
          "base_uri": "https://localhost:8080/",
          "height": 102
        },
        "outputId": "f6699d61-7119-4b6c-993d-d26cc69e6a12"
      },
      "source": [
        "Z = np.diag(1+np.arange(4),k=-1)\n",
        "print(Z)"
      ],
      "execution_count": null,
      "outputs": [
        {
          "output_type": "stream",
          "text": [
            "[[0 0 0 0 0]\n",
            " [1 0 0 0 0]\n",
            " [0 2 0 0 0]\n",
            " [0 0 3 0 0]\n",
            " [0 0 0 4 0]]\n"
          ],
          "name": "stdout"
        }
      ]
    },
    {
      "cell_type": "markdown",
      "metadata": {
        "id": "1AMDsh7oEF8I",
        "colab_type": "text"
      },
      "source": [
        "# 3.Create a 8x8 matrix and fill it with a checkerboard pattern"
      ]
    },
    {
      "cell_type": "code",
      "metadata": {
        "id": "IGibjSxoEF8J",
        "colab_type": "code",
        "colab": {
          "base_uri": "https://localhost:8080/",
          "height": 170
        },
        "outputId": "cbc6241f-dc3e-44f6-ad1e-37146d0b9bd6"
      },
      "source": [
        "x = np.ones((3,3))\n",
        "print(\"CHECKERBOARD PATTERN\")\n",
        "x = np.zeros((8,8),dtype=int)\n",
        "x[1::2,::2] = 1\n",
        "x[::2,1::2] = 1\n",
        "print(x)"
      ],
      "execution_count": null,
      "outputs": [
        {
          "output_type": "stream",
          "text": [
            "CHECKERBOARD PATTERN\n",
            "[[0 1 0 1 0 1 0 1]\n",
            " [1 0 1 0 1 0 1 0]\n",
            " [0 1 0 1 0 1 0 1]\n",
            " [1 0 1 0 1 0 1 0]\n",
            " [0 1 0 1 0 1 0 1]\n",
            " [1 0 1 0 1 0 1 0]\n",
            " [0 1 0 1 0 1 0 1]\n",
            " [1 0 1 0 1 0 1 0]]\n"
          ],
          "name": "stdout"
        }
      ]
    },
    {
      "cell_type": "markdown",
      "metadata": {
        "id": "Y8TuxPYXEF8R",
        "colab_type": "text"
      },
      "source": [
        "# 4. Normalize a 5x5 random matrix"
      ]
    },
    {
      "cell_type": "code",
      "metadata": {
        "id": "tU2FqhrpiqKk",
        "colab_type": "code",
        "colab": {
          "base_uri": "https://localhost:8080/",
          "height": 102
        },
        "outputId": "2330195d-2fbf-4f18-95a4-2675535f557c"
      },
      "source": [
        "Z = np.random.random((5,5))\n",
        "Zmax, Zmin = Z.max(), Z.min()\n",
        "Z = (Z - Zmin)/(Zmax - Zmin)\n",
        "print(Z)"
      ],
      "execution_count": null,
      "outputs": [
        {
          "output_type": "stream",
          "text": [
            "[[0.70708945 0.30584378 0.80510422 0.1264166  0.82882761]\n",
            " [0.50096051 0.6434331  0.04861904 0.76745615 0.4126747 ]\n",
            " [0.54747752 0.69559889 0.7154304  0.72190621 0.        ]\n",
            " [0.01365115 0.25830003 0.3244647  0.62574523 1.        ]\n",
            " [0.69531734 0.26719499 0.54185389 0.2603288  0.25404097]]\n"
          ],
          "name": "stdout"
        }
      ]
    },
    {
      "cell_type": "markdown",
      "metadata": {
        "id": "NO-GujigEF8Z",
        "colab_type": "text"
      },
      "source": [
        "# 5.  How to find common values between two arrays?"
      ]
    },
    {
      "cell_type": "code",
      "metadata": {
        "id": "FmUxIC4eEF8a",
        "colab_type": "code",
        "colab": {
          "base_uri": "https://localhost:8080/",
          "height": 85
        },
        "outputId": "16ab43d1-a2cd-41ac-9818-252dedcd164a"
      },
      "source": [
        "array1 = np.array([0, 10, 20, 30, 40])\n",
        "print(\"Array1: \",array1)\n",
        "array2 = [20, 40, 60]\n",
        "print(\"Array2: \",array2)\n",
        "print(\"Common values between two arrays:\")\n",
        "print(np.intersect1d(array1, array2))\n"
      ],
      "execution_count": null,
      "outputs": [
        {
          "output_type": "stream",
          "text": [
            "Array1:  [ 0 10 20 30 40]\n",
            "Array2:  [20, 40, 60]\n",
            "Common values between two arrays:\n",
            "[20 40]\n"
          ],
          "name": "stdout"
        }
      ]
    },
    {
      "cell_type": "markdown",
      "metadata": {
        "id": "hMkto7d0EF8i",
        "colab_type": "text"
      },
      "source": [
        "# 6.How to get the dates of yesterday, today and tomorrow?"
      ]
    },
    {
      "cell_type": "code",
      "metadata": {
        "id": "0UDVh9GeEF8j",
        "colab_type": "code",
        "colab": {
          "base_uri": "https://localhost:8080/",
          "height": 68
        },
        "outputId": "7c1dc955-87c4-41de-ba54-8d54069d1078"
      },
      "source": [
        "yesterday = np.datetime64('today', 'D') - np.timedelta64(1, 'D')\n",
        "print(\"YESTERDAY:\",yesterday)\n",
        "today = np.datetime64('today', 'D')\n",
        "print(\"TODAY:    \",today)\n",
        "tomorrow  = np.datetime64('today', 'D') + np.timedelta64(1, 'D')\n",
        "print(\"TOMORROW: \",tomorrow)"
      ],
      "execution_count": null,
      "outputs": [
        {
          "output_type": "stream",
          "text": [
            "YESTERDAY: 2020-07-27\n",
            "TODAY:     2020-07-28\n",
            "TOMORROW:  2020-07-29\n"
          ],
          "name": "stdout"
        }
      ]
    },
    {
      "cell_type": "markdown",
      "metadata": {
        "id": "rtpd66hCEF8t",
        "colab_type": "text"
      },
      "source": [
        "# 7. Consider two random array A and B, check if they are equal"
      ]
    },
    {
      "cell_type": "code",
      "metadata": {
        "id": "XVw543WFEF8v",
        "colab_type": "code",
        "colab": {
          "base_uri": "https://localhost:8080/",
          "height": 119
        },
        "outputId": "3f164915-5bc6-4bda-dcab-222343d26a7b"
      },
      "source": [
        "x = np.random.randint(0,2,6)\n",
        "print(\"First array:\")\n",
        "print(x)\n",
        "y = np.random.randint(0,2,6)\n",
        "print(\"Second array:\")\n",
        "print(y)\n",
        "print(\"Test above two arrays are equal or not!\")\n",
        "array_equal = np.allclose(x, y)\n",
        "print(array_equal)"
      ],
      "execution_count": null,
      "outputs": [
        {
          "output_type": "stream",
          "text": [
            "First array:\n",
            "[0 0 1 1 1 0]\n",
            "Second array:\n",
            "[1 1 0 1 1 0]\n",
            "Test above two arrays are equal or not!\n",
            "False\n"
          ],
          "name": "stdout"
        }
      ]
    },
    {
      "cell_type": "markdown",
      "metadata": {
        "id": "_qh4ISFuEF83",
        "colab_type": "text"
      },
      "source": [
        "# 8.Create random vector of size 10 and replace the maximum value by 0 "
      ]
    },
    {
      "cell_type": "code",
      "metadata": {
        "id": "lj95EbA0EF85",
        "colab_type": "code",
        "colab": {
          "base_uri": "https://localhost:8080/",
          "height": 119
        },
        "outputId": "a8502573-0127-4d8a-832f-f4981492c6f8"
      },
      "source": [
        "x = np.random.random(10)\n",
        "print(\"Original array:\")\n",
        "print(x)\n",
        "x[x.argmax()] = 0\n",
        "print(\"Maximum value replaced by 0:\")\n",
        "print(x)"
      ],
      "execution_count": null,
      "outputs": [
        {
          "output_type": "stream",
          "text": [
            "Original array:\n",
            "[0.38875933 0.12386001 0.75438324 0.42310077 0.17948361 0.63858903\n",
            " 0.99307613 0.45417372 0.66378456 0.52173255]\n",
            "Maximum value replaced by 0:\n",
            "[0.38875933 0.12386001 0.75438324 0.42310077 0.17948361 0.63858903\n",
            " 0.         0.45417372 0.66378456 0.52173255]\n"
          ],
          "name": "stdout"
        }
      ]
    },
    {
      "cell_type": "markdown",
      "metadata": {
        "id": "SuJO1IhgEF9C",
        "colab_type": "text"
      },
      "source": [
        "# 9. How to print all the values of an array?"
      ]
    },
    {
      "cell_type": "code",
      "metadata": {
        "id": "L6wVGm-ZEF9D",
        "colab_type": "code",
        "colab": {
          "base_uri": "https://localhost:8080/",
          "height": 85
        },
        "outputId": "34ac5230-57e7-451e-8369-2f59d5848fa7"
      },
      "source": [
        "import sys\n",
        "np.set_printoptions(threshold=sys.maxsize)\n",
        "x = np.zeros((4, 4))\n",
        "print(x)"
      ],
      "execution_count": null,
      "outputs": [
        {
          "output_type": "stream",
          "text": [
            "[[0. 0. 0. 0.]\n",
            " [0. 0. 0. 0.]\n",
            " [0. 0. 0. 0.]\n",
            " [0. 0. 0. 0.]]\n"
          ],
          "name": "stdout"
        }
      ]
    },
    {
      "cell_type": "markdown",
      "metadata": {
        "id": "bC1UGKwYEF9L",
        "colab_type": "text"
      },
      "source": [
        "# 10.Subtract the mean of each row of a matrix"
      ]
    },
    {
      "cell_type": "code",
      "metadata": {
        "id": "UjAJed6EEF9M",
        "colab_type": "code",
        "colab": {
          "base_uri": "https://localhost:8080/",
          "height": 442
        },
        "outputId": "49e77636-e261-4d8c-8a24-8be709582588"
      },
      "source": [
        "print(\"Original matrix:\\n\")\n",
        "X = np.random.rand(5, 10)\n",
        "print(X)\n",
        "print(\"\\nSubtract the mean of each row of the said matrix:\\n\")\n",
        "Y = X - X.mean(axis=1, keepdims=True)\n",
        "print(Y)"
      ],
      "execution_count": null,
      "outputs": [
        {
          "output_type": "stream",
          "text": [
            "Original matrix:\n",
            "\n",
            "[[0.96908723 0.43040376 0.77744718 0.0464926  0.89178806 0.40459165\n",
            "  0.25325321 0.38882455 0.96086171 0.46687295]\n",
            " [0.11958641 0.16944324 0.99927096 0.3717337  0.03569665 0.56950162\n",
            "  0.78416702 0.67710643 0.45387945 0.01362699]\n",
            " [0.90169675 0.15702467 0.56273899 0.26232784 0.1861439  0.96592897\n",
            "  0.12902896 0.21485525 0.01103223 0.63815817]\n",
            " [0.58419736 0.02266232 0.5669585  0.92345152 0.42094837 0.67073416\n",
            "  0.35882229 0.67279418 0.26354504 0.34724548]\n",
            " [0.63617267 0.77358789 0.73079216 0.47393797 0.79302087 0.45451487\n",
            "  0.59776013 0.37849759 0.68995319 0.09533788]]\n",
            "\n",
            "Subtract the mean of each row of the said matrix:\n",
            "\n",
            "[[ 0.41012494 -0.12855853  0.21848489 -0.51246969  0.33282577 -0.15437064\n",
            "  -0.30570908 -0.17013774  0.40189942 -0.09208934]\n",
            " [-0.29981484 -0.24995801  0.57986971 -0.04766754 -0.3837046   0.15010037\n",
            "   0.36476577  0.25770518  0.03447821 -0.40577426]\n",
            " [ 0.49880318 -0.24586891  0.15984541 -0.14056573 -0.21674967  0.5630354\n",
            "  -0.27386461 -0.18803832 -0.39186134  0.23526459]\n",
            " [ 0.10106144 -0.46047361  0.08382258  0.4403156  -0.06218755  0.18759823\n",
            "  -0.12431363  0.18965826 -0.21959088 -0.13589044]\n",
            " [ 0.07381515  0.21123036  0.16843464 -0.08841955  0.23066335 -0.10784265\n",
            "   0.0354026  -0.18385993  0.12759567 -0.46701964]]\n"
          ],
          "name": "stdout"
        }
      ]
    },
    {
      "cell_type": "markdown",
      "metadata": {
        "id": "3Tc3TDCqEF9W",
        "colab_type": "text"
      },
      "source": [
        "# 11.Consider a given vector, how to add 1 to each element indexed by a second vector (be careful with repeated indices)? "
      ]
    },
    {
      "cell_type": "code",
      "metadata": {
        "id": "ewEXPxN8EF9X",
        "colab_type": "code",
        "colab": {
          "base_uri": "https://localhost:8080/",
          "height": 34
        },
        "outputId": "fbbf631f-d8ca-4a1d-d16f-ddb7f2e6bbad"
      },
      "source": [
        "#METHOD 1\n",
        "Z = np.ones(10)\n",
        "I = np.random.randint(0,len(Z),20)\n",
        "Z += np.bincount(I, minlength=len(Z))\n",
        "print(Z)"
      ],
      "execution_count": null,
      "outputs": [
        {
          "output_type": "stream",
          "text": [
            "[1. 3. 7. 2. 1. 3. 4. 3. 4. 2.]\n"
          ],
          "name": "stdout"
        }
      ]
    },
    {
      "cell_type": "code",
      "metadata": {
        "id": "DTsyh73QjbsQ",
        "colab_type": "code",
        "colab": {
          "base_uri": "https://localhost:8080/",
          "height": 34
        },
        "outputId": "a2ad4823-f096-4f56-c8f3-6690e2935bfe"
      },
      "source": [
        "Z = np.ones(10)\n",
        "I = np.random.randint(0,len(Z),20)\n",
        "Z += np.bincount(I, minlength=len(Z))\n",
        "print(Z)"
      ],
      "execution_count": null,
      "outputs": [
        {
          "output_type": "stream",
          "text": [
            "[3. 5. 2. 2. 2. 3. 4. 1. 6. 2.]\n"
          ],
          "name": "stdout"
        }
      ]
    },
    {
      "cell_type": "code",
      "metadata": {
        "id": "puB8r6UiEF9e",
        "colab_type": "code",
        "colab": {
          "base_uri": "https://localhost:8080/",
          "height": 34
        },
        "outputId": "719fb1d3-2e6b-414d-e80c-c3ea960b38d5"
      },
      "source": [
        "#METHOD2\n",
        "np.add.at(Z, I, 1)\n",
        "print(Z)"
      ],
      "execution_count": null,
      "outputs": [
        {
          "output_type": "stream",
          "text": [
            "[ 5.  9.  3.  3.  3.  5.  7.  1. 11.  3.]\n"
          ],
          "name": "stdout"
        }
      ]
    },
    {
      "cell_type": "code",
      "metadata": {
        "id": "TGrP6LgKlFUL",
        "colab_type": "code",
        "colab": {
          "base_uri": "https://localhost:8080/",
          "height": 34
        },
        "outputId": "340fb233-da03-4be4-b0d6-960027aba47b"
      },
      "source": [
        "np.add.at(Z, I, 1)\n",
        "print(Z)"
      ],
      "execution_count": null,
      "outputs": [
        {
          "output_type": "stream",
          "text": [
            "[ 7. 13.  4.  4.  4.  7. 10.  1. 16.  4.]\n"
          ],
          "name": "stdout"
        }
      ]
    },
    {
      "cell_type": "markdown",
      "metadata": {
        "id": "AkEDN8lOEF9j",
        "colab_type": "text"
      },
      "source": [
        "# 12.How to get the diagonal of a dot product?"
      ]
    },
    {
      "cell_type": "code",
      "metadata": {
        "id": "t82jJqdfEF9k",
        "colab_type": "code",
        "colab": {
          "base_uri": "https://localhost:8080/",
          "height": 34
        },
        "outputId": "fea9ec16-3602-4ce1-c874-16d955a482c9"
      },
      "source": [
        "A = np.random.uniform(0,1,(5,5))\n",
        "B = np.random.uniform(0,1,(5,5))\n",
        "np.diag(np.dot(A, B))"
      ],
      "execution_count": null,
      "outputs": [
        {
          "output_type": "execute_result",
          "data": {
            "text/plain": [
              "array([1.40690942, 1.49515994, 1.35903642, 1.44939253, 0.66072863])"
            ]
          },
          "metadata": {
            "tags": []
          },
          "execution_count": 68
        }
      ]
    },
    {
      "cell_type": "markdown",
      "metadata": {
        "id": "wPIE0uJJEF9p",
        "colab_type": "text"
      },
      "source": [
        "# 13.How to find the most frequent value in an array?"
      ]
    },
    {
      "cell_type": "code",
      "metadata": {
        "id": "E9nDTVvbEF9q",
        "colab_type": "code",
        "colab": {
          "base_uri": "https://localhost:8080/",
          "height": 51
        },
        "outputId": "5f7b3fbd-f211-4a19-d086-32ded53a9ed7"
      },
      "source": [
        "x = np.random.randint(0, 10, 30)\n",
        "print(x)\n",
        "print(\"most frequent value in the array is:\" ,np.bincount(x).argmax())"
      ],
      "execution_count": null,
      "outputs": [
        {
          "output_type": "stream",
          "text": [
            "[9 6 8 0 7 0 4 5 3 6 2 0 3 4 9 1 9 1 6 2 8 9 2 9 7 7 4 8 3 1]\n",
            "most frequent value in the array is: 9\n"
          ],
          "name": "stdout"
        }
      ]
    },
    {
      "cell_type": "markdown",
      "metadata": {
        "id": "1ORBTntgEF9t",
        "colab_type": "text"
      },
      "source": [
        "# 14.How to get the n largest values of an array"
      ]
    },
    {
      "cell_type": "code",
      "metadata": {
        "id": "Wjfb0bvmEF9v",
        "colab_type": "code",
        "colab": {
          "base_uri": "https://localhost:8080/",
          "height": 68
        },
        "outputId": "dc26d155-b20c-4209-ec72-e4412b5ac5f1"
      },
      "source": [
        "x = np.arange(10)\n",
        "print(\"Original array:\")\n",
        "print(x)\n",
        "np.random.shuffle(x)\n",
        "n = 2\n",
        "print (x[np.argsort(x)[-n:]])"
      ],
      "execution_count": null,
      "outputs": [
        {
          "output_type": "stream",
          "text": [
            "Original array:\n",
            "[0 1 2 3 4 5 6 7 8 9]\n",
            "[8 9]\n"
          ],
          "name": "stdout"
        }
      ]
    },
    {
      "cell_type": "markdown",
      "metadata": {
        "id": "RJUQw7wBEF92",
        "colab_type": "text"
      },
      "source": [
        "# 15.How to create a record array from a regular array?"
      ]
    },
    {
      "cell_type": "code",
      "metadata": {
        "id": "kNvuvENCEF93",
        "colab_type": "code",
        "colab": {
          "base_uri": "https://localhost:8080/",
          "height": 153
        },
        "outputId": "7990eceb-9760-46e0-91bb-9d8ed836389c"
      },
      "source": [
        "array1 = np.array([(\"Elena Gilbert\", 27.5, 20),(\"Stephan Salvatore\", 156.2, 19),(\"Demon Salvatore\", 156.2, 20)])\n",
        "print(\"Original arrays:\")\n",
        "print(array1)\n",
        "print(\"\\nRecord array;\")\n",
        "result = np.core.records.fromarrays(array1.T,names='col1, col2, col3',formats = 'S80, f8, i8')\n",
        "print(result)"
      ],
      "execution_count": null,
      "outputs": [
        {
          "output_type": "stream",
          "text": [
            "Original arrays:\n",
            "[['Elena Gilbert' '27.5' '20']\n",
            " ['Stephan Salvatore' '156.2' '19']\n",
            " ['Demon Salvatore' '156.2' '20']]\n",
            "\n",
            "Record array;\n",
            "[(b'Elena Gilbert',  27.5, 20) (b'Stephan Salvatore', 156.2, 19)\n",
            " (b'Demon Salvatore', 156.2, 20)]\n"
          ],
          "name": "stdout"
        }
      ]
    },
    {
      "cell_type": "code",
      "metadata": {
        "id": "Ezoo02t_EF96",
        "colab_type": "code",
        "colab": {}
      },
      "source": [
        ""
      ],
      "execution_count": null,
      "outputs": []
    }
  ]
}